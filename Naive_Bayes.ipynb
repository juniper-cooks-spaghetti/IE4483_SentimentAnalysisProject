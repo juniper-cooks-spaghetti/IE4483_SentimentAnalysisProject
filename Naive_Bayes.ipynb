{
 "cells": [
  {
   "cell_type": "code",
   "execution_count": null,
   "metadata": {
    "vscode": {
     "languageId": "plaintext"
    }
   },
   "outputs": [],
   "source": [
    "#Creating the Gaussian NB and fitting the data.\n",
    "\n",
    "from sklearn.naive_bayes import GaussianNB\n",
    "NB = GaussianNB().fit(ptrain,ptrain_target)\n",
    "print(\"Naive-Bayes model trained, Accuracy \\t:\", NB.score(ptrain, ptrain_target))"
   ]
  },
  {
   "cell_type": "code",
   "execution_count": null,
   "metadata": {
    "vscode": {
     "languageId": "plaintext"
    }
   },
   "outputs": [],
   "source": [
    "#Use NB to predict the test set's target value\n",
    "pred_target = NB.predict(ptest)"
   ]
  },
  {
   "cell_type": "code",
   "execution_count": null,
   "metadata": {
    "vscode": {
     "languageId": "plaintext"
    }
   },
   "outputs": [],
   "source": [
    "#Confusion matrix\n",
    "from sklearn.metrics import confusion_matrix\n",
    "sb.heatmap(confusion_matrix(ptest_target,pred_target), \n",
    "           annot = True, fmt=\".0f\", annot_kws={\"size\": 18})\n",
    "print(\"Test Accuracy \\t:\", NB.score(ptest, ptest_target))"
   ]
  },
  {
   "cell_type": "code",
   "execution_count": null,
   "metadata": {
    "vscode": {
     "languageId": "plaintext"
    }
   },
   "outputs": [],
   "source": []
  }
 ],
 "metadata": {
  "language_info": {
   "name": "python"
  }
 },
 "nbformat": 4,
 "nbformat_minor": 2
}
