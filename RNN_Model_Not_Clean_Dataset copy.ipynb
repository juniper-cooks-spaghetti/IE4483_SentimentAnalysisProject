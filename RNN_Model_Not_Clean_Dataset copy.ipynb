{
 "cells": [
  {
   "cell_type": "markdown",
   "metadata": {},
   "source": [
    "Data Preparation"
   ]
  },
  {
   "cell_type": "code",
   "execution_count": 9,
   "metadata": {},
   "outputs": [
    {
     "name": "stderr",
     "output_type": "stream",
     "text": [
      "c:\\Users\\User\\anaconda3\\lib\\site-packages\\tensorflow\\python\\client\\session.py:1768: UserWarning: An interactive session is already active. This can cause out-of-memory errors in some cases. You must explicitly call `InteractiveSession.close()` to release resources held by the other session(s).\n",
      "  warnings.warn('An interactive session is already active. This can '\n"
     ]
    }
   ],
   "source": [
    "from tensorflow.compat.v1 import ConfigProto\n",
    "from tensorflow.compat.v1 import InteractiveSession\n",
    "\n",
    "config = ConfigProto()\n",
    "config.gpu_options.allow_growth = True\n",
    "session = InteractiveSession(config=config)"
   ]
  },
  {
   "cell_type": "code",
   "execution_count": null,
   "metadata": {},
   "outputs": [],
   "source": [
    "import pandas as pd"
   ]
  },
  {
   "cell_type": "code",
   "execution_count": 11,
   "metadata": {},
   "outputs": [
    {
     "name": "stdout",
     "output_type": "stream",
     "text": [
      "                                             reviews  sentiments\n",
      "0  I bought this belt for my daughter in-law for ...           1\n",
      "1  The size was perfect and so was the color.  It...           1\n",
      "2  Fits and feels good, esp. for doing a swim rac...           1\n",
      "3  These socks are absolutely the best. I take pi...           1\n",
      "4  Thank you so much for the speedy delivery they...           1\n",
      "                                             reviews\n",
      "0  I bought 2 sleepers.  sleeper had holes in the...\n",
      "1  I dare say these are just about the sexiest th...\n",
      "2  everything about the transaction (price, deliv...\n",
      "3  Not bad for just a shirt.  Very durable, and m...\n",
      "4  These are truly wrinkle free and longer than t...\n"
     ]
    }
   ],
   "source": [
    "#Changed the 'train_data' into 'raw_data' and changed 'test_data' into 'answer_data'\n",
    "\n",
    "labelled_data = pd.read_json('train.json')\n",
    "answer_data = pd.read_json('test.json')\n",
    "\n",
    "print(labelled_data.head())\n",
    "print(answer_data.head())\n",
    "\n",
    "raw_labels = labelled_data['sentiments']"
   ]
  },
  {
   "cell_type": "code",
   "execution_count": 12,
   "metadata": {},
   "outputs": [
    {
     "name": "stdout",
     "output_type": "stream",
     "text": [
      "                                             reviews  sentiments\n",
      "0  I bought this belt for my daughter in-law for ...           1\n",
      "1  The size was perfect and so was the color.  It...           1\n",
      "2  Fits and feels good, esp. for doing a swim rac...           1\n",
      "3  These socks are absolutely the best. I take pi...           1\n",
      "4  Thank you so much for the speedy delivery they...           1\n"
     ]
    }
   ],
   "source": [
    "print(labelled_data.head())"
   ]
  },
  {
   "cell_type": "code",
   "execution_count": 13,
   "metadata": {},
   "outputs": [
    {
     "name": "stdout",
     "output_type": "stream",
     "text": [
      "Train padded shape: (7401, 1065)\n",
      "Test padded shape: (1851, 1065)\n"
     ]
    }
   ],
   "source": [
    "from tensorflow.keras.preprocessing.text import Tokenizer\n",
    "from tensorflow.keras.preprocessing.sequence import pad_sequences\n",
    "\n",
    "# Tokenization: Basically divides the sentences into segments\n",
    "tokenizer = Tokenizer()\n",
    "tokenizer.fit_on_texts(labelled_data['reviews']) #Indexes each token (each word is given a number). Index = 0 is for padding\n",
    "\n",
    "# Convert text to sequences\n",
    "raw_sequences = tokenizer.texts_to_sequences(labelled_data['reviews'])\n",
    "answer_sequences = tokenizer.texts_to_sequences(answer_data['reviews'])\n",
    "\n",
    "# Padding sequences\n",
    "max_length = max(max(len(seq) for seq in raw_sequences), max(len(seq) for seq in answer_sequences)) #Finding the maximum sequence length from both the raw_data and answer_data\n",
    "raw_final = pad_sequences(raw_sequences, maxlen=max_length, padding='post') #standardize the array\n",
    "answer_final = pad_sequences(answer_sequences, maxlen=max_length, padding='post')\n",
    "\n",
    "# Display the shape of padded sequences\n",
    "print(f'Train padded shape: {raw_final.shape}')\n",
    "print(f'Test padded shape: {answer_final.shape}')"
   ]
  },
  {
   "cell_type": "code",
   "execution_count": 14,
   "metadata": {},
   "outputs": [
    {
     "data": {
      "text/plain": [
       "array([[  2,  49,  11, ...,   0,   0,   0],\n",
       "       [  1,  33,  18, ...,   0,   0,   0],\n",
       "       [165,   3, 429, ...,   0,   0,   0],\n",
       "       ...,\n",
       "       [  2,  69,  24, ...,   0,   0,   0],\n",
       "       [ 11, 235,   7, ...,   0,   0,   0],\n",
       "       [ 16,  14, 336, ...,   0,   0,   0]])"
      ]
     },
     "execution_count": 14,
     "metadata": {},
     "output_type": "execute_result"
    }
   ],
   "source": [
    "raw_final"
   ]
  },
  {
   "cell_type": "code",
   "execution_count": 15,
   "metadata": {},
   "outputs": [
    {
     "data": {
      "text/plain": [
       "array([[   2,   49,  123, ...,    0,    0,    0],\n",
       "       [   2, 3396,  208, ...,    0,    0,    0],\n",
       "       [ 270,   82,    1, ...,    0,    0,    0],\n",
       "       ...,\n",
       "       [  16,   14,   62, ...,    0,    0,    0],\n",
       "       [  16,   58,    8, ...,    0,    0,    0],\n",
       "       [ 125, 4211, 1063, ...,    0,    0,    0]])"
      ]
     },
     "execution_count": 15,
     "metadata": {},
     "output_type": "execute_result"
    }
   ],
   "source": [
    "answer_final"
   ]
  },
  {
   "cell_type": "code",
   "execution_count": 16,
   "metadata": {},
   "outputs": [
    {
     "name": "stdout",
     "output_type": "stream",
     "text": [
      "Loaded 400000 word vectors from GloVe.\n"
     ]
    }
   ],
   "source": [
    "import numpy as np\n",
    "import matplotlib.pyplot as plt\n",
    "from sklearn.manifold import TSNE\n",
    "\n",
    "# Load GloVe word embeddings (download and extract glove.6B.100d.txt)\n",
    "embedding_dim = 100 #as vectors of n real numbers\n",
    "glove_file = 'C:/Users/User/Downloads/Telegram Desktop/glove.6B/glove.6B.100d.txt' #change this to your glove path\n",
    "embeddings_index = {}\n",
    "\n",
    "with open(glove_file, encoding='utf-8') as f:\n",
    "    for line in f:\n",
    "        values = line.split()\n",
    "        word = values[0]\n",
    "        coefs = np.asarray(values[1:], dtype='float32')\n",
    "        embeddings_index[word] = coefs\n",
    "\n",
    "print(f'Loaded {len(embeddings_index)} word vectors from GloVe.')"
   ]
  },
  {
   "cell_type": "code",
   "execution_count": 17,
   "metadata": {},
   "outputs": [
    {
     "name": "stdout",
     "output_type": "stream",
     "text": [
      "Embedding matrix shape: (14631, 100)\n"
     ]
    }
   ],
   "source": [
    "# Prepare the embedding matrix\n",
    "vocab_size = len(tokenizer.word_index) + 1  # +1 for padding token\n",
    "embedding_matrix = np.zeros((vocab_size, embedding_dim))\n",
    "\n",
    "# Map the words in the tokenizer's vocabulary to GloVe vectors\n",
    "for word, i in tokenizer.word_index.items():\n",
    "    embedding_vector = embeddings_index.get(word)\n",
    "    if embedding_vector is not None:\n",
    "        embedding_matrix[i] = embedding_vector  # Words found in GloVe will use pretrained vectors\n",
    "\n",
    "# Check the embedding matrix shape\n",
    "print(f'Embedding matrix shape: {embedding_matrix.shape}')"
   ]
  },
  {
   "cell_type": "code",
   "execution_count": 18,
   "metadata": {},
   "outputs": [
    {
     "name": "stderr",
     "output_type": "stream",
     "text": [
      "c:\\Users\\User\\anaconda3\\lib\\site-packages\\sklearn\\manifold\\_t_sne.py:780: FutureWarning: The default initialization in TSNE will change from 'random' to 'pca' in 1.2.\n",
      "  warnings.warn(\n",
      "c:\\Users\\User\\anaconda3\\lib\\site-packages\\sklearn\\manifold\\_t_sne.py:790: FutureWarning: The default learning rate in TSNE will change from 200.0 to 'auto' in 1.2.\n",
      "  warnings.warn(\n"
     ]
    },
    {
     "data": {
      "image/png": "[encoded data removed]",
      "text/plain": [
       "<Figure size 720x720 with 1 Axes>"
      ]
     },
     "metadata": {
      "needs_background": "light"
     },
     "output_type": "display_data"
    }
   ],
   "source": [
    "# Visualize the GloVe embeddings with t-SNE\n",
    "\n",
    "# Step 1: Select a subset of words from the vocabulary (e.g., the first 100 words)\n",
    "word_subset = list(tokenizer.word_index.keys())[:100]\n",
    "word_vectors = np.array([embedding_matrix[tokenizer.word_index[word]] for word in word_subset])\n",
    "\n",
    "# Step 2: Apply t-SNE to reduce dimensionality to 2D\n",
    "tsne = TSNE(n_components=2, random_state=42)\n",
    "word_vecs_2d = tsne.fit_transform(word_vectors)\n",
    "\n",
    "# Step 3: Plot the words in 2D space\n",
    "plt.figure(figsize=(10, 10))\n",
    "for i, word in enumerate(word_subset):\n",
    "    plt.scatter(word_vecs_2d[i, 0], word_vecs_2d[i, 1])\n",
    "    plt.annotate(word, (word_vecs_2d[i, 0], word_vecs_2d[i, 1]), fontsize=9)\n",
    "plt.title(\"2D Visualization of GloVe Embeddings (subset of vocabulary)\")\n",
    "plt.show()"
   ]
  },
  {
   "cell_type": "code",
   "execution_count": 19,
   "metadata": {},
   "outputs": [
    {
     "data": {
      "text/plain": [
       "1065"
      ]
     },
     "execution_count": 19,
     "metadata": {},
     "output_type": "execute_result"
    }
   ],
   "source": [
    "max_length"
   ]
  },
  {
   "cell_type": "code",
   "execution_count": 20,
   "metadata": {},
   "outputs": [],
   "source": [
    "#train test split the raw data\n",
    "from sklearn.model_selection import train_test_split\n",
    "labelled_train, labelled_test, label_train, label_test = train_test_split(\n",
    "    raw_final, raw_labels, test_size=0.2, random_state=42)"
   ]
  },
  {
   "cell_type": "code",
   "execution_count": 21,
   "metadata": {},
   "outputs": [
    {
     "name": "stdout",
     "output_type": "stream",
     "text": [
      "Model: \"sequential\"\n",
      "_________________________________________________________________\n",
      " Layer (type)                Output Shape              Param #   \n",
      "=================================================================\n",
      " embedding (Embedding)       (None, 1065, 100)         1463100   \n",
      "                                                                 \n",
      " bidirectional (Bidirectiona  (None, 1065, 128)        84480     \n",
      " l)                                                              \n",
      "                                                                 \n",
      " dropout (Dropout)           (None, 1065, 128)         0         \n",
      "                                                                 \n",
      " bidirectional_1 (Bidirectio  (None, 8)                4256      \n",
      " nal)                                                            \n",
      "                                                                 \n",
      " dropout_1 (Dropout)         (None, 8)                 0         \n",
      "                                                                 \n",
      " dense (Dense)               (None, 1)                 9         \n",
      "                                                                 \n",
      "=================================================================\n",
      "Total params: 1,551,845\n",
      "Trainable params: 1,551,845\n",
      "Non-trainable params: 0\n",
      "_________________________________________________________________\n",
      "Epoch 1/20\n",
      "19/19 [==============================] - 25s 716ms/step - loss: 0.5296 - acc: 0.7842 - val_loss: 0.3908 - val_acc: 0.8682\n",
      "Epoch 2/20\n",
      "19/19 [==============================] - 11s 579ms/step - loss: 0.4577 - acc: 0.8484 - val_loss: 0.3950 - val_acc: 0.8682\n",
      "Epoch 3/20\n",
      "19/19 [==============================] - 11s 583ms/step - loss: 0.4527 - acc: 0.8486 - val_loss: 0.3902 - val_acc: 0.8682\n",
      "Epoch 4/20\n",
      "19/19 [==============================] - 11s 560ms/step - loss: 0.4478 - acc: 0.8484 - val_loss: 0.3846 - val_acc: 0.8682\n",
      "Epoch 5/20\n",
      "19/19 [==============================] - 11s 561ms/step - loss: 0.4348 - acc: 0.8486 - val_loss: 0.3640 - val_acc: 0.8682\n",
      "Epoch 6/20\n",
      "19/19 [==============================] - 11s 572ms/step - loss: 0.4085 - acc: 0.8488 - val_loss: 0.3422 - val_acc: 0.8682\n",
      "Epoch 7/20\n",
      "19/19 [==============================] - 11s 563ms/step - loss: 0.3944 - acc: 0.8486 - val_loss: 0.3404 - val_acc: 0.8682\n",
      "Epoch 8/20\n",
      "19/19 [==============================] - 11s 565ms/step - loss: 0.3783 - acc: 0.8480 - val_loss: 0.3256 - val_acc: 0.8682\n",
      "Epoch 9/20\n",
      "19/19 [==============================] - 10s 554ms/step - loss: 0.3590 - acc: 0.8490 - val_loss: 0.3327 - val_acc: 0.8682\n",
      "Epoch 10/20\n",
      "19/19 [==============================] - 11s 554ms/step - loss: 0.3416 - acc: 0.8524 - val_loss: 0.2923 - val_acc: 0.8682\n",
      "Epoch 11/20\n",
      "19/19 [==============================] - 10s 551ms/step - loss: 0.3169 - acc: 0.8594 - val_loss: 0.2812 - val_acc: 0.8682\n",
      "Epoch 12/20\n",
      "19/19 [==============================] - 11s 558ms/step - loss: 0.2933 - acc: 0.8672 - val_loss: 0.2687 - val_acc: 0.8691\n",
      "Epoch 13/20\n",
      "19/19 [==============================] - 11s 558ms/step - loss: 0.2647 - acc: 0.8938 - val_loss: 0.2512 - val_acc: 0.9046\n",
      "Epoch 14/20\n",
      "19/19 [==============================] - 11s 572ms/step - loss: 0.2492 - acc: 0.9029 - val_loss: 0.2562 - val_acc: 0.9105\n",
      "Epoch 15/20\n",
      "19/19 [==============================] - 11s 565ms/step - loss: 0.2315 - acc: 0.9107 - val_loss: 0.2567 - val_acc: 0.8860\n",
      "Epoch 16/20\n",
      "19/19 [==============================] - 11s 560ms/step - loss: 0.2223 - acc: 0.9223 - val_loss: 0.2638 - val_acc: 0.9147\n",
      "Epoch 17/20\n",
      "19/19 [==============================] - 11s 561ms/step - loss: 0.1950 - acc: 0.9333 - val_loss: 0.2321 - val_acc: 0.9198\n",
      "Epoch 18/20\n",
      "19/19 [==============================] - 11s 569ms/step - loss: 0.1886 - acc: 0.9354 - val_loss: 0.2430 - val_acc: 0.9062\n",
      "Epoch 19/20\n",
      "19/19 [==============================] - 11s 566ms/step - loss: 0.1824 - acc: 0.9405 - val_loss: 0.2479 - val_acc: 0.9164\n",
      "Epoch 20/20\n",
      "19/19 [==============================] - 11s 567ms/step - loss: 0.1676 - acc: 0.9472 - val_loss: 0.2355 - val_acc: 0.9164\n"
     ]
    }
   ],
   "source": [
    "import tensorflow as tf\n",
    "from keras.models import Sequential\n",
    "from keras.layers import Dense, Embedding, LSTM, Bidirectional, Dropout\n",
    "\n",
    "\n",
    "# Define your model\n",
    "model = Sequential()\n",
    "model.add(Embedding(vocab_size, 100, weights=[embedding_matrix], input_length=max_length, trainable=True))\n",
    "#CuDNN has very strict requirements to be able to use GPU, im putting it here to show the requirements, some of them are already default settings though\n",
    "model.add(Bidirectional(LSTM(64,\n",
    "                             activation='tanh',  # Default settings, to show\n",
    "                             recurrent_activation='sigmoid',  # Default\n",
    "                             return_sequences=True,  # Must be set to true for the first layer\n",
    "                             recurrent_dropout=0,  # Must be 0 for cuDNN\n",
    "                             unroll=False,  # Must be False for cuDNN\n",
    "                             use_bias=True)))  # Default is True\n",
    "model.add(Dropout(0.5))\n",
    "model.add(Bidirectional(LSTM(4,\n",
    "                             activation='tanh',  # Default settings, to show\n",
    "                             recurrent_activation='sigmoid',  # Default\n",
    "                             return_sequences=False,  # Set appropriately, not Default\n",
    "                             recurrent_dropout=0,  # Must be 0 for cuDNN\n",
    "                             unroll=False,  # Must be False for cuDNN\n",
    "                             use_bias=True)))  # Default is True\n",
    "model.add(Dropout(0.5))\n",
    "model.add(Dense(1, activation='sigmoid'))\n",
    "\n",
    "# Compile the model\n",
    "model.compile(optimizer='adam', loss='binary_crossentropy', metrics=['acc'])\n",
    "\n",
    "# Print the model summary\n",
    "model.summary()\n",
    "\n",
    "snn_model_history = model.fit(labelled_train, label_train, batch_size=256, epochs=20, verbose=1, validation_split=0.2)"
   ]
  },
  {
   "cell_type": "code",
   "execution_count": 22,
   "metadata": {},
   "outputs": [
    {
     "name": "stdout",
     "output_type": "stream",
     "text": [
      "47/47 [==============================] - 6s 125ms/step - loss: 0.2385 - acc: 0.9196\n"
     ]
    }
   ],
   "source": [
    "loss, acc = model.evaluate(labelled_test, label_test)"
   ]
  }
 ],
 "metadata": {
  "kernelspec": {
   "display_name": "base",
   "language": "python",
   "name": "python3"
  },
  "language_info": {
   "codemirror_mode": {
    "name": "ipython",
    "version": 3
   },
   "file_extension": ".py",
   "mimetype": "text/x-python",
   "name": "python",
   "nbconvert_exporter": "python",
   "pygments_lexer": "ipython3",
   "version": "3.9.12"
  }
 },
 "nbformat": 4,
 "nbformat_minor": 2
}
